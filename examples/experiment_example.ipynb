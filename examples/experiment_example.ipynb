{
 "cells": [
  {
   "cell_type": "code",
   "execution_count": 1,
   "id": "93d58afd-652b-4fd3-88d8-3595d2a0c350",
   "metadata": {},
   "outputs": [],
   "source": [
    "import time\n",
    "import os\n",
    "from pathlib import Path\n",
    "import json\n",
    "\n",
    "from wei import ExperimentClient as Experiment\n",
    "from wei.core.data_classes import WorkflowStatus"
   ]
  },
  {
   "cell_type": "code",
   "execution_count": 2,
   "id": "30a6b085",
   "metadata": {},
   "outputs": [],
   "source": [
    "SIMULATE = True"
   ]
  },
  {
   "cell_type": "code",
   "execution_count": 6,
   "id": "cf284cec-a6fc-4c8b-8084-e0ddca0a8e43",
   "metadata": {},
   "outputs": [],
   "source": [
    "# The path to the Workflow definition yaml file\n",
    "wf_path = Path(globals()['_dh'][0]).parent / \"example_yaml/example_workflow.yaml\"\n",
    "# This defines the Experiment object that will communicate with the WEI server\n",
    "exp = Experiment(\"wei_server\", \"8000\", \"Example Program\")"
   ]
  },
  {
   "cell_type": "code",
   "execution_count": 7,
   "id": "753e034a-732a-4f6f-bfef-f6ef5ce8b2f6",
   "metadata": {},
   "outputs": [
    {
     "data": {
      "text/plain": [
       "{'exp_dir': '/root/.wei/experiments/Example Program_id_01HF5G83GT2WX98QF91CSP9AZR'}"
      ]
     },
     "execution_count": 7,
     "metadata": {},
     "output_type": "execute_result"
    }
   ],
   "source": [
    "# This initializes the connection to the server and the logs\n",
    "# for this run of the program.\n",
    "exp.register_exp()"
   ]
  },
  {
   "cell_type": "code",
   "execution_count": 8,
   "id": "9a0c7725-5332-49cc-b0a6-36bb5fe8b51c",
   "metadata": {},
   "outputs": [
    {
     "ename": "AssertionError",
     "evalue": "/home/luckierdodge/example_yaml/example_workflow.yaml does not exist",
     "output_type": "error",
     "traceback": [
      "\u001b[0;31m---------------------------------------------------------------------------\u001b[0m",
      "\u001b[0;31mAssertionError\u001b[0m                            Traceback (most recent call last)",
      "Cell \u001b[0;32mIn[8], line 2\u001b[0m\n\u001b[1;32m      1\u001b[0m \u001b[38;5;66;03m# This runs the workflow\u001b[39;00m\n\u001b[0;32m----> 2\u001b[0m flow_info \u001b[38;5;241m=\u001b[39m \u001b[43mexp\u001b[49m\u001b[38;5;241;43m.\u001b[39;49m\u001b[43mstart_run\u001b[49m\u001b[43m(\u001b[49m\u001b[43mwf_path\u001b[49m\u001b[38;5;241;43m.\u001b[39;49m\u001b[43mresolve\u001b[49m\u001b[43m(\u001b[49m\u001b[43m)\u001b[49m\u001b[43m,\u001b[49m\u001b[43m \u001b[49m\u001b[43msimulate\u001b[49m\u001b[38;5;241;43m=\u001b[39;49m\u001b[43mSIMULATE\u001b[49m\u001b[43m,\u001b[49m\u001b[43m \u001b[49m\u001b[43mblocking\u001b[49m\u001b[38;5;241;43m=\u001b[39;49m\u001b[38;5;28;43;01mTrue\u001b[39;49;00m\u001b[43m)\u001b[49m\n\u001b[1;32m      3\u001b[0m \u001b[38;5;28mprint\u001b[39m(json\u001b[38;5;241m.\u001b[39mdumps(flow_info, indent\u001b[38;5;241m=\u001b[39m\u001b[38;5;241m2\u001b[39m))\n",
      "File \u001b[0;32m~/wei/wei/experiment_client.py:91\u001b[0m, in \u001b[0;36mExperimentClient.start_run\u001b[0;34m(self, workflow_file, payload, simulate, blocking)\u001b[0m\n\u001b[1;32m     66\u001b[0m \u001b[38;5;28;01mdef\u001b[39;00m \u001b[38;5;21mstart_run\u001b[39m(\n\u001b[1;32m     67\u001b[0m     \u001b[38;5;28mself\u001b[39m,\n\u001b[1;32m     68\u001b[0m     workflow_file: Path,\n\u001b[0;32m   (...)\u001b[0m\n\u001b[1;32m     71\u001b[0m     blocking: \u001b[38;5;28mbool\u001b[39m \u001b[38;5;241m=\u001b[39m \u001b[38;5;28;01mTrue\u001b[39;00m,\n\u001b[1;32m     72\u001b[0m ) \u001b[38;5;241m-\u001b[39m\u001b[38;5;241m>\u001b[39m Dict[Any, Any]:\n\u001b[1;32m     73\u001b[0m \u001b[38;5;250m    \u001b[39m\u001b[38;5;124;03m\"\"\"Submits a workflow file to the server to be executed, and logs it in the overall event log.\u001b[39;00m\n\u001b[1;32m     74\u001b[0m \n\u001b[1;32m     75\u001b[0m \u001b[38;5;124;03m    Parameters\u001b[39;00m\n\u001b[0;32m   (...)\u001b[0m\n\u001b[1;32m     89\u001b[0m \u001b[38;5;124;03m       The JSON portion of the response from the server, including the ID of the job as job_id\u001b[39;00m\n\u001b[1;32m     90\u001b[0m \u001b[38;5;124;03m    \"\"\"\u001b[39;00m\n\u001b[0;32m---> 91\u001b[0m     \u001b[38;5;28;01massert\u001b[39;00m workflow_file\u001b[38;5;241m.\u001b[39mexists(), \u001b[38;5;124mf\u001b[39m\u001b[38;5;124m\"\u001b[39m\u001b[38;5;132;01m{\u001b[39;00mworkflow_file\u001b[38;5;132;01m}\u001b[39;00m\u001b[38;5;124m does not exist\u001b[39m\u001b[38;5;124m\"\u001b[39m\n\u001b[1;32m     92\u001b[0m     url \u001b[38;5;241m=\u001b[39m \u001b[38;5;124mf\u001b[39m\u001b[38;5;124m\"\u001b[39m\u001b[38;5;132;01m{\u001b[39;00m\u001b[38;5;28mself\u001b[39m\u001b[38;5;241m.\u001b[39murl\u001b[38;5;132;01m}\u001b[39;00m\u001b[38;5;124m/runs/start\u001b[39m\u001b[38;5;124m\"\u001b[39m\n\u001b[1;32m     93\u001b[0m     payload_path \u001b[38;5;241m=\u001b[39m Path(\u001b[38;5;124m\"\u001b[39m\u001b[38;5;124m~/.wei/temp/payload.txt\u001b[39m\u001b[38;5;124m\"\u001b[39m)\n",
      "\u001b[0;31mAssertionError\u001b[0m: /home/luckierdodge/example_yaml/example_workflow.yaml does not exist"
     ]
    }
   ],
   "source": [
    "# This runs the workflow\n",
    "flow_info = exp.start_run(wf_path.resolve(), simulate=SIMULATE, blocking=True)\n",
    "print(json.dumps(flow_info, indent=2))"
   ]
  },
  {
   "cell_type": "code",
   "execution_count": null,
   "id": "8e1e5bde-7325-4f71-9df9-7b175827cda0",
   "metadata": {},
   "outputs": [],
   "source": [
    "# If the workflow run isn't simulated, the below lines will fetch the result and save it in our local directory\n",
    "if not SIMULATE:\n",
    "    exp.get_file(flow_info[\"hist\"][\"Take Picture\"][\"action_msg\"], \"experiment_output.jpg\")"
   ]
  }
 ],
 "metadata": {
  "kernelspec": {
   "display_name": "Python 3 (ipykernel)",
   "language": "python",
   "name": "python3"
  },
  "language_info": {
   "codemirror_mode": {
    "name": "ipython",
    "version": 3
   },
   "file_extension": ".py",
   "mimetype": "text/x-python",
   "name": "python",
   "nbconvert_exporter": "python",
   "pygments_lexer": "ipython3",
   "version": "3.11.6"
  }
 },
 "nbformat": 4,
 "nbformat_minor": 5
}
