{
 "cells": [
  {
   "cell_type": "code",
   "execution_count": null,
   "id": "93d58afd-652b-4fd3-88d8-3595d2a0c350",
   "metadata": {},
   "outputs": [],
   "source": [
    "from pathlib import Path\n",
    "import json\n",
    "\n",
    "from wei import ExperimentClient as Experiment"
   ]
  },
  {
   "cell_type": "code",
   "execution_count": null,
   "id": "30a6b085",
   "metadata": {},
   "outputs": [],
   "source": [
    "# Change this line to use your real webcam\n",
    "SIMULATE = True"
   ]
  },
  {
   "cell_type": "code",
   "execution_count": null,
   "id": "cf284cec-a6fc-4c8b-8084-e0ddca0a8e43",
   "metadata": {},
   "outputs": [],
   "source": [
    "# The path to the Workflow definition yaml file\n",
    "wf_path = Path(globals()['_dh'][0]).parent / \"example_yaml/example_workflow.yaml\"\n",
    "\n",
    "# This defines the Experiment object that will communicate with the WEI server\n",
    "exp = Experiment(\"wei_server\", \"8000\", \"Example Program\")"
   ]
  },
  {
   "cell_type": "code",
   "execution_count": null,
   "id": "753e034a-732a-4f6f-bfef-f6ef5ce8b2f6",
   "metadata": {},
   "outputs": [],
   "source": [
    "# This initializes the connection to the server and the logs\n",
    "# for this run of the program.\n",
    "exp.register_exp()"
   ]
  },
  {
   "cell_type": "code",
   "execution_count": null,
   "id": "9a0c7725-5332-49cc-b0a6-36bb5fe8b51c",
   "metadata": {},
   "outputs": [],
   "source": [
    "# This runs the workflow\n",
    "flow_info = exp.start_run(wf_path.resolve(), simulate=SIMULATE, blocking=True)\n",
    "print(json.dumps(flow_info, indent=2))"
   ]
  },
  {
   "cell_type": "code",
   "execution_count": null,
   "id": "8e1e5bde-7325-4f71-9df9-7b175827cda0",
   "metadata": {},
   "outputs": [],
   "source": [
    "# If the workflow run isn't simulated, the below lines will fetch the result and save it in our local directory\n",
    "if not SIMULATE:\n",
    "    exp.get_file(flow_info[\"hist\"][\"Take Picture\"][\"action_msg\"], \"experiment_output.jpg\")"
   ]
  }
 ],
 "metadata": {
  "kernelspec": {
   "display_name": "Python 3 (ipykernel)",
   "language": "python",
   "name": "python3"
  },
  "language_info": {
   "codemirror_mode": {
    "name": "ipython",
    "version": 3
   },
   "file_extension": ".py",
   "mimetype": "text/x-python",
   "name": "python",
   "nbconvert_exporter": "python",
   "pygments_lexer": "ipython3",
   "version": "3.11.6"
  }
 },
 "nbformat": 4,
 "nbformat_minor": 5
}
