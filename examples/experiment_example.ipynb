{
 "cells": [
  {
   "cell_type": "code",
   "execution_count": 1,
   "id": "93d58afd-652b-4fd3-88d8-3595d2a0c350",
   "metadata": {},
   "outputs": [],
   "source": [
    "from pathlib import Path\n",
    "import json\n",
    "\n",
    "from wei import ExperimentClient as Experiment"
   ]
  },
  {
   "cell_type": "code",
   "execution_count": 2,
   "id": "30a6b085",
   "metadata": {},
   "outputs": [],
   "source": [
    "# Change this line to use your real webcam\n",
    "SIMULATE = True"
   ]
  },
  {
   "cell_type": "code",
   "execution_count": null,
   "id": "cf284cec-a6fc-4c8b-8084-e0ddca0a8e43",
   "metadata": {},
   "outputs": [],
   "source": [
    "# The path to the Workflow definition yaml file\n",
    "wf_path = Path(globals()['_dh'][0]) / \"example_yaml/example_workflow.yaml\"\n",
    "\n",
    "# This defines the Experiment object that will communicate with the WEI server\n",
    "exp = Experiment(\"wei_server\", \"8000\", \"Example Program\")"
   ]
  },
  {
   "cell_type": "code",
   "execution_count": 4,
   "id": "9a0c7725-5332-49cc-b0a6-36bb5fe8b51c",
   "metadata": {},
   "outputs": [
    {
     "name": "stdout",
     "output_type": "stream",
     "text": [
      "\n",
      "Test_Workflow [0]: Sleep workcell for t seconds (new)\n",
      "Test_Workflow [1]: Take Picture (running)\n",
      "Test_Workflow [2]: Workflow End (completed)\n",
      "{\n",
      "  \"name\": \"Test_Workflow\",\n",
      "  \"modules\": [\n",
      "    {\n",
      "      \"name\": \"sleeper\"\n",
      "    },\n",
      "    {\n",
      "      \"name\": \"webcam\"\n",
      "    }\n",
      "  ],\n",
      "  \"flowdef\": [\n",
      "    {\n",
      "      \"name\": \"Sleep workcell for t seconds\",\n",
      "      \"module\": \"sleeper\",\n",
      "      \"action\": \"sleep\",\n",
      "      \"args\": {\n",
      "        \"t\": \"5\"\n",
      "      },\n",
      "      \"checks\": null,\n",
      "      \"locations\": {},\n",
      "      \"requirements\": {},\n",
      "      \"dependencies\": [],\n",
      "      \"priority\": null,\n",
      "      \"id\": \"01HH306GZM3F76ES9DSQTDKW6B\",\n",
      "      \"comment\": \"Sleep for 5 seconds before we take a picture\"\n",
      "    },\n",
      "    {\n",
      "      \"name\": \"Take Picture\",\n",
      "      \"module\": \"webcam\",\n",
      "      \"action\": \"take_picture\",\n",
      "      \"args\": {\n",
      "        \"file_name\": \"snapshot.jpg\"\n",
      "      },\n",
      "      \"checks\": null,\n",
      "      \"locations\": {},\n",
      "      \"requirements\": {},\n",
      "      \"dependencies\": [],\n",
      "      \"priority\": null,\n",
      "      \"id\": \"01HH306GZM0BWVMMZA1PB22QRB\",\n",
      "      \"comment\": null\n",
      "    }\n",
      "  ],\n",
      "  \"metadata\": {\n",
      "    \"author\": \"Tobias Ginsburg, Kyle Hippe, Ryan D. Lewis\",\n",
      "    \"info\": \"Example workflow for WEI\",\n",
      "    \"version\": 0.2\n",
      "  },\n",
      "  \"label\": \"Test_Workflow\",\n",
      "  \"run_id\": \"01HH306GZQEHFG6ZR828T3WHAH\",\n",
      "  \"payload\": {},\n",
      "  \"status\": \"completed\",\n",
      "  \"steps\": [\n",
      "    {\n",
      "      \"name\": \"Sleep workcell for t seconds\",\n",
      "      \"module\": \"sleeper\",\n",
      "      \"action\": \"sleep\",\n",
      "      \"args\": {\n",
      "        \"t\": \"5\"\n",
      "      },\n",
      "      \"checks\": null,\n",
      "      \"locations\": {},\n",
      "      \"requirements\": {},\n",
      "      \"dependencies\": [],\n",
      "      \"priority\": null,\n",
      "      \"id\": \"01HH306GZM3F76ES9DSQTDKW6B\",\n",
      "      \"comment\": \"Sleep for 5 seconds before we take a picture\"\n",
      "    },\n",
      "    {\n",
      "      \"name\": \"Take Picture\",\n",
      "      \"module\": \"webcam\",\n",
      "      \"action\": \"take_picture\",\n",
      "      \"args\": {\n",
      "        \"file_name\": \"snapshot.jpg\"\n",
      "      },\n",
      "      \"checks\": null,\n",
      "      \"locations\": {},\n",
      "      \"requirements\": {},\n",
      "      \"dependencies\": [],\n",
      "      \"priority\": null,\n",
      "      \"id\": \"01HH306GZM0BWVMMZA1PB22QRB\",\n",
      "      \"comment\": null\n",
      "    }\n",
      "  ],\n",
      "  \"result\": {},\n",
      "  \"hist\": {\n",
      "    \"Sleep workcell for t seconds\": {\n",
      "      \"action_log\": \"\",\n",
      "      \"action_msg\": \"sleep\",\n",
      "      \"action_response\": \"succeeded\"\n",
      "    },\n",
      "    \"Take Picture\": {\n",
      "      \"action_log\": \"\",\n",
      "      \"action_msg\": \"take_picture\",\n",
      "      \"action_response\": \"succeeded\"\n",
      "    },\n",
      "    \"run_dir\": \"/root/.wei/experiments/Example Program_id_01HH304W4PHQRY31GDJ6GGW7R6/runs/Test_Workflow_01HH306GZQEHFG6ZR828T3WHAH\"\n",
      "  },\n",
      "  \"experiment_id\": \"01HH304W4PHQRY31GDJ6GGW7R6\",\n",
      "  \"step_index\": 2,\n",
      "  \"simulate\": true,\n",
      "  \"run_dir\": \"/root/.wei/experiments/Example Program_id_01HH304W4PHQRY31GDJ6GGW7R6/runs/Test_Workflow_01HH306GZQEHFG6ZR828T3WHAH\",\n",
      "  \"run_log\": \"/root/.wei/experiments/Example Program_id_01HH304W4PHQRY31GDJ6GGW7R6/runs/Test_Workflow_01HH306GZQEHFG6ZR828T3WHAH/01HH306GZQEHFG6ZR828T3WHAH_run_log.log\",\n",
      "  \"result_dir\": \"/root/.wei/experiments/Example Program_id_01HH304W4PHQRY31GDJ6GGW7R6/runs/Test_Workflow_01HH306GZQEHFG6ZR828T3WHAH/results\"\n",
      "}\n"
     ]
    }
   ],
   "source": [
    "# This runs the workflow\n",
    "flow_info = exp.start_run(wf_path.resolve(), simulate=SIMULATE, blocking=True)\n",
    "print(json.dumps(flow_info, indent=2))"
   ]
  },
  {
   "cell_type": "code",
   "execution_count": 5,
   "id": "8e1e5bde-7325-4f71-9df9-7b175827cda0",
   "metadata": {},
   "outputs": [],
   "source": [
    "# If the workflow run isn't simulated, the below lines will fetch the result and save it in our local directory\n",
    "if not SIMULATE:\n",
    "    exp.get_file(flow_info[\"hist\"][\"Take Picture\"][\"action_msg\"], \"experiment_output.jpg\")"
   ]
  },
  {
   "cell_type": "code",
   "execution_count": 5,
   "id": "69eb9db4-f00d-43e0-93d5-d58f78d151e4",
   "metadata": {},
   "outputs": [
    {
     "data": {
      "text/plain": [
       "{'experiment_id': '01HH304W4PHQRY31GDJ6GGW7R6',\n",
       " 'event_type': 'COMMENT',\n",
       " 'event_name': 'hello',\n",
       " 'event_info': ''}"
      ]
     },
     "execution_count": 5,
     "metadata": {},
     "output_type": "execute_result"
    }
   ],
   "source": [
    "exp.events.log_comment(\"hello\")"
   ]
  },
  {
   "cell_type": "code",
   "execution_count": 6,
   "id": "204a3426-3c91-4ad8-b664-68c2f4d150a9",
   "metadata": {},
   "outputs": [],
   "source": []
  },
  {
   "cell_type": "code",
   "execution_count": 10,
   "id": "26080652-30c0-4883-991b-a9383810d527",
   "metadata": {},
   "outputs": [],
   "source": []
  },
  {
   "cell_type": "code",
   "execution_count": 19,
   "id": "368ab463-2ca1-4863-bc64-5d5893ffea33",
   "metadata": {},
   "outputs": [
    {
     "data": {
      "text/plain": [
       "['storage.db']"
      ]
     },
     "execution_count": 19,
     "metadata": {},
     "output_type": "execute_result"
    }
   ],
   "source": [
    "os.chdi(\"\")\n",
    "os.listdir()"
   ]
  },
  {
   "cell_type": "code",
   "execution_count": null,
   "id": "999c99ff-fc8c-4e28-98e4-6f8b275f2414",
   "metadata": {},
   "outputs": [],
   "source": []
  }
 ],
 "metadata": {
  "kernelspec": {
   "display_name": "Python 3 (ipykernel)",
   "language": "python",
   "name": "python3"
  },
  "language_info": {
   "codemirror_mode": {
    "name": "ipython",
    "version": 3
   },
   "file_extension": ".py",
   "mimetype": "text/x-python",
   "name": "python",
   "nbconvert_exporter": "python",
   "pygments_lexer": "ipython3",
   "version": "3.11.6"
  }
 },
 "nbformat": 4,
 "nbformat_minor": 5
}
