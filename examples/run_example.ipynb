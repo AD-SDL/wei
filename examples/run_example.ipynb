{
 "cells": [
  {
   "cell_type": "code",
   "execution_count": 7,
   "id": "93d58afd-652b-4fd3-88d8-3595d2a0c350",
   "metadata": {},
   "outputs": [],
   "source": [
    "import time\n",
    "from pathlib import Path\n",
    "import json\n",
    "\n",
    "from wei import Experiment\n",
    "from wei.core.data_classes import WorkflowStatus"
   ]
  },
  {
   "cell_type": "code",
   "execution_count": 8,
   "id": "cf284cec-a6fc-4c8b-8084-e0ddca0a8e43",
   "metadata": {},
   "outputs": [],
   "source": [
    "# The path to the Workflow definition yaml file\n",
    "wf_path = Path(\"./example_workflow.yaml\")\n",
    "# This defines the Experiment object that will communicate with the server for workflows\n",
    "exp = Experiment(\"wei_server\", \"8000\", \"Example Program\")"
   ]
  },
  {
   "cell_type": "code",
   "execution_count": 9,
   "id": "753e034a-732a-4f6f-bfef-f6ef5ce8b2f6",
   "metadata": {},
   "outputs": [
    {
     "data": {
      "text/plain": [
       "{'exp_dir': '/root/.wei/experiments/Example Program_id_01HD1X34DFPXXF1CCE46HCYBT1'}"
      ]
     },
     "execution_count": 9,
     "metadata": {},
     "output_type": "execute_result"
    }
   ],
   "source": [
    "# This initializes the connection to the server and the logs\n",
    "# for this run of the program.\n",
    "exp.register_exp()"
   ]
  },
  {
   "cell_type": "code",
   "execution_count": 10,
   "id": "9a0c7725-5332-49cc-b0a6-36bb5fe8b51c",
   "metadata": {},
   "outputs": [
    {
     "name": "stdout",
     "output_type": "stream",
     "text": [
      "{'wf': {'name': 'example_workflow', 'modules': [], 'flowdef': [{'step': {'name': 'Sleep workcell for t seconds', 'module': 'sleeper', 'action': 'sleep', 'args': {'t': '5'}, 'checks': None, 'requirements': {}, 'dependencies': [], 'priority': None, 'id': '01HD1WWANBTYGH6MHSTCZGG063', 'comment': 'Sleep for 5 seconds before we take a picture'}, 'locations': {}}, {'step': {'name': 'Take Picture', 'module': 'webcam', 'action': 'take_picture', 'args': {'image_name': 'test_snapshot.jpg'}, 'checks': None, 'requirements': {}, 'dependencies': [], 'priority': None, 'id': '01HD1WWANBTYGH6MHSTCZGG063', 'comment': None}, 'locations': {}}], 'metadata': {'author': None, 'info': None, 'version': 0.1}, 'payload': None, 'label': 'example_workflow', 'run_id': '01HD1WWANJF3QH9FGSG9RMJN08', 'status': 'new', 'result': {}, 'hist': {}, 'experiment_id': None, 'experiment_path': '/root/.wei/experiments/Example Program_id_01HD1X34DFPXXF1CCE46HCYBT1', 'step_index': 0, 'run_dir': '/root/.wei/experiments/Example Program_id_01HD1X34DFPXXF1CCE46HCYBT1/runs/example_workflow_01HD1WWANJF3QH9FGSG9RMJN08'}, 'run_id': '01HD1WWANJF3QH9FGSG9RMJN08', 'status': 'WorkflowStatus.NEW'}\n",
      "here\n",
      "{'name': 'example_workflow', 'modules': [], 'flowdef': [{'locations': {}, 'step': {'action': 'sleep', 'args': {'t': '5'}, 'checks': None, 'comment': 'Sleep for 5 seconds before we take a picture', 'dependencies': [], 'id': '01HD1WWANBTYGH6MHSTCZGG063', 'module': 'sleeper', 'name': 'Sleep workcell for t seconds', 'priority': None, 'requirements': {}}}, {'locations': {}, 'step': {'action': 'take_picture', 'args': {'image_name': 'test_snapshot.jpg'}, 'checks': None, 'comment': None, 'dependencies': [], 'id': '01HD1WWANBTYGH6MHSTCZGG063', 'module': 'webcam', 'name': 'Take Picture', 'priority': None, 'requirements': {}}}], 'metadata': {'author': None, 'info': None, 'version': 0.1}, 'payload': None, 'label': 'example_workflow', 'run_id': '01HD1WWANJF3QH9FGSG9RMJN08', 'status': 'new', 'result': {}, 'hist': {}, 'experiment_id': None, 'experiment_path': '/root/.wei/experiments/Example Program_id_01HD1X34DFPXXF1CCE46HCYBT1', 'step_index': 0, 'run_dir': '/root/.wei/experiments/Example Program_id_01HD1X34DFPXXF1CCE46HCYBT1/runs/example_workflow_01HD1WWANJF3QH9FGSG9RMJN08'}\n",
      "{'name': 'example_workflow', 'modules': [], 'flowdef': [{'locations': {}, 'step': {'action': 'sleep', 'args': {'t': '5'}, 'checks': None, 'comment': 'Sleep for 5 seconds before we take a picture', 'dependencies': [], 'id': '01HD1WWANBTYGH6MHSTCZGG063', 'module': 'sleeper', 'name': 'Sleep workcell for t seconds', 'priority': None, 'requirements': {}}}, {'locations': {}, 'step': {'action': 'take_picture', 'args': {'image_name': 'test_snapshot.jpg'}, 'checks': None, 'comment': None, 'dependencies': [], 'id': '01HD1WWANBTYGH6MHSTCZGG063', 'module': 'webcam', 'name': 'Take Picture', 'priority': None, 'requirements': {}}}], 'metadata': {'author': None, 'info': None, 'version': 0.1}, 'payload': None, 'label': 'example_workflow', 'run_id': '01HD1WWANJF3QH9FGSG9RMJN08', 'status': 'new', 'result': {}, 'hist': {}, 'experiment_id': None, 'experiment_path': '/root/.wei/experiments/Example Program_id_01HD1X34DFPXXF1CCE46HCYBT1', 'step_index': 0, 'run_dir': '/root/.wei/experiments/Example Program_id_01HD1X34DFPXXF1CCE46HCYBT1/runs/example_workflow_01HD1WWANJF3QH9FGSG9RMJN08'}\n",
      "{'name': 'example_workflow', 'modules': [], 'flowdef': [{'locations': {}, 'step': {'action': 'sleep', 'args': {'t': '5'}, 'checks': None, 'comment': 'Sleep for 5 seconds before we take a picture', 'dependencies': [], 'id': '01HD1WWANBTYGH6MHSTCZGG063', 'module': 'sleeper', 'name': 'Sleep workcell for t seconds', 'priority': None, 'requirements': {}}}, {'locations': {}, 'step': {'action': 'take_picture', 'args': {'image_name': 'test_snapshot.jpg'}, 'checks': None, 'comment': None, 'dependencies': [], 'id': '01HD1WWANBTYGH6MHSTCZGG063', 'module': 'webcam', 'name': 'Take Picture', 'priority': None, 'requirements': {}}}], 'metadata': {'author': None, 'info': None, 'version': 0.1}, 'payload': None, 'label': 'example_workflow', 'run_id': '01HD1WWANJF3QH9FGSG9RMJN08', 'status': 'queued', 'result': {}, 'hist': {}, 'experiment_id': '01HD1X34DFPXXF1CCE46HCYBT1', 'experiment_path': '/root/.wei/experiments/Example Program_id_01HD1X34DFPXXF1CCE46HCYBT1', 'step_index': 0, 'run_dir': '/root/.wei/experiments/Example Program_id_01HD1X34DFPXXF1CCE46HCYBT1/runs/example_workflow_01HD1WWANJF3QH9FGSG9RMJN08'}\n",
      "{'name': 'example_workflow', 'modules': [], 'flowdef': [{'locations': {}, 'step': {'action': 'sleep', 'args': {'t': '5'}, 'checks': None, 'comment': 'Sleep for 5 seconds before we take a picture', 'dependencies': [], 'id': '01HD1WWANBTYGH6MHSTCZGG063', 'module': 'sleeper', 'name': 'Sleep workcell for t seconds', 'priority': None, 'requirements': {}}}, {'locations': {}, 'step': {'action': 'take_picture', 'args': {'image_name': 'test_snapshot.jpg'}, 'checks': None, 'comment': None, 'dependencies': [], 'id': '01HD1WWANBTYGH6MHSTCZGG063', 'module': 'webcam', 'name': 'Take Picture', 'priority': None, 'requirements': {}}}], 'metadata': {'author': None, 'info': None, 'version': 0.1}, 'payload': None, 'label': 'example_workflow', 'run_id': '01HD1WWANJF3QH9FGSG9RMJN08', 'status': 'running', 'result': {}, 'hist': {}, 'experiment_id': '01HD1X34DFPXXF1CCE46HCYBT1', 'experiment_path': '/root/.wei/experiments/Example Program_id_01HD1X34DFPXXF1CCE46HCYBT1', 'step_index': 0, 'run_dir': '/root/.wei/experiments/Example Program_id_01HD1X34DFPXXF1CCE46HCYBT1/runs/example_workflow_01HD1WWANJF3QH9FGSG9RMJN08'}\n",
      "{'name': 'example_workflow', 'modules': [], 'flowdef': [{'locations': {}, 'step': {'action': 'sleep', 'args': {'t': '5'}, 'checks': None, 'comment': 'Sleep for 5 seconds before we take a picture', 'dependencies': [], 'id': '01HD1WWANBTYGH6MHSTCZGG063', 'module': 'sleeper', 'name': 'Sleep workcell for t seconds', 'priority': None, 'requirements': {}}}, {'locations': {}, 'step': {'action': 'take_picture', 'args': {'image_name': 'test_snapshot.jpg'}, 'checks': None, 'comment': None, 'dependencies': [], 'id': '01HD1WWANBTYGH6MHSTCZGG063', 'module': 'webcam', 'name': 'Take Picture', 'priority': None, 'requirements': {}}}], 'metadata': {'author': None, 'info': None, 'version': 0.1}, 'payload': None, 'label': 'example_workflow', 'run_id': '01HD1WWANJF3QH9FGSG9RMJN08', 'status': 'running', 'result': {}, 'hist': {}, 'experiment_id': '01HD1X34DFPXXF1CCE46HCYBT1', 'experiment_path': '/root/.wei/experiments/Example Program_id_01HD1X34DFPXXF1CCE46HCYBT1', 'step_index': 0, 'run_dir': '/root/.wei/experiments/Example Program_id_01HD1X34DFPXXF1CCE46HCYBT1/runs/example_workflow_01HD1WWANJF3QH9FGSG9RMJN08'}\n",
      "{'name': 'example_workflow', 'modules': [], 'flowdef': [{'locations': {}, 'step': {'action': 'sleep', 'args': {'t': '5'}, 'checks': None, 'comment': 'Sleep for 5 seconds before we take a picture', 'dependencies': [], 'id': '01HD1WWANBTYGH6MHSTCZGG063', 'module': 'sleeper', 'name': 'Sleep workcell for t seconds', 'priority': None, 'requirements': {}}}, {'locations': {}, 'step': {'action': 'take_picture', 'args': {'image_name': 'test_snapshot.jpg'}, 'checks': None, 'comment': None, 'dependencies': [], 'id': '01HD1WWANBTYGH6MHSTCZGG063', 'module': 'webcam', 'name': 'Take Picture', 'priority': None, 'requirements': {}}}], 'metadata': {'author': None, 'info': None, 'version': 0.1}, 'payload': None, 'label': 'example_workflow', 'run_id': '01HD1WWANJF3QH9FGSG9RMJN08', 'status': 'running', 'result': {}, 'hist': {}, 'experiment_id': '01HD1X34DFPXXF1CCE46HCYBT1', 'experiment_path': '/root/.wei/experiments/Example Program_id_01HD1X34DFPXXF1CCE46HCYBT1', 'step_index': 0, 'run_dir': '/root/.wei/experiments/Example Program_id_01HD1X34DFPXXF1CCE46HCYBT1/runs/example_workflow_01HD1WWANJF3QH9FGSG9RMJN08'}\n",
      "{'name': 'example_workflow', 'modules': [], 'flowdef': [{'locations': {}, 'step': {'action': 'sleep', 'args': {'t': '5'}, 'checks': None, 'comment': 'Sleep for 5 seconds before we take a picture', 'dependencies': [], 'id': '01HD1WWANBTYGH6MHSTCZGG063', 'module': 'sleeper', 'name': 'Sleep workcell for t seconds', 'priority': None, 'requirements': {}}}, {'locations': {}, 'step': {'action': 'take_picture', 'args': {'image_name': 'test_snapshot.jpg'}, 'checks': None, 'comment': None, 'dependencies': [], 'id': '01HD1WWANBTYGH6MHSTCZGG063', 'module': 'webcam', 'name': 'Take Picture', 'priority': None, 'requirements': {}}}], 'metadata': {'author': None, 'info': None, 'version': 0.1}, 'payload': None, 'label': 'example_workflow', 'run_id': '01HD1WWANJF3QH9FGSG9RMJN08', 'status': 'running', 'result': {}, 'hist': {}, 'experiment_id': '01HD1X34DFPXXF1CCE46HCYBT1', 'experiment_path': '/root/.wei/experiments/Example Program_id_01HD1X34DFPXXF1CCE46HCYBT1', 'step_index': 0, 'run_dir': '/root/.wei/experiments/Example Program_id_01HD1X34DFPXXF1CCE46HCYBT1/runs/example_workflow_01HD1WWANJF3QH9FGSG9RMJN08'}\n",
      "{'name': 'example_workflow', 'modules': [], 'flowdef': [{'locations': {}, 'step': {'action': 'sleep', 'args': {'t': '5'}, 'checks': None, 'comment': 'Sleep for 5 seconds before we take a picture', 'dependencies': [], 'id': '01HD1WWANBTYGH6MHSTCZGG063', 'module': 'sleeper', 'name': 'Sleep workcell for t seconds', 'priority': None, 'requirements': {}}}, {'locations': {}, 'step': {'action': 'take_picture', 'args': {'image_name': 'test_snapshot.jpg'}, 'checks': None, 'comment': None, 'dependencies': [], 'id': '01HD1WWANBTYGH6MHSTCZGG063', 'module': 'webcam', 'name': 'Take Picture', 'priority': None, 'requirements': {}}}], 'metadata': {'author': None, 'info': None, 'version': 0.1}, 'payload': None, 'label': 'example_workflow', 'run_id': '01HD1WWANJF3QH9FGSG9RMJN08', 'status': 'running', 'result': {}, 'hist': {}, 'experiment_id': '01HD1X34DFPXXF1CCE46HCYBT1', 'experiment_path': '/root/.wei/experiments/Example Program_id_01HD1X34DFPXXF1CCE46HCYBT1', 'step_index': 0, 'run_dir': '/root/.wei/experiments/Example Program_id_01HD1X34DFPXXF1CCE46HCYBT1/runs/example_workflow_01HD1WWANJF3QH9FGSG9RMJN08'}\n",
      "{'name': 'example_workflow', 'modules': [], 'flowdef': [{'locations': {}, 'step': {'action': 'sleep', 'args': {'t': '5'}, 'checks': None, 'comment': 'Sleep for 5 seconds before we take a picture', 'dependencies': [], 'id': '01HD1WWANBTYGH6MHSTCZGG063', 'module': 'sleeper', 'name': 'Sleep workcell for t seconds', 'priority': None, 'requirements': {}}}, {'locations': {}, 'step': {'action': 'take_picture', 'args': {'image_name': 'test_snapshot.jpg'}, 'checks': None, 'comment': None, 'dependencies': [], 'id': '01HD1WWANBTYGH6MHSTCZGG063', 'module': 'webcam', 'name': 'Take Picture', 'priority': None, 'requirements': {}}}], 'metadata': {'author': None, 'info': None, 'version': 0.1}, 'payload': None, 'label': 'example_workflow', 'run_id': '01HD1WWANJF3QH9FGSG9RMJN08', 'status': 'queued', 'result': {}, 'hist': {'Sleep workcell for t seconds': {'action_log': '', 'action_msg': 'StepStatus.Succeeded', 'action_response': 'True'}}, 'experiment_id': '01HD1X34DFPXXF1CCE46HCYBT1', 'experiment_path': '/root/.wei/experiments/Example Program_id_01HD1X34DFPXXF1CCE46HCYBT1', 'step_index': 1, 'run_dir': '/root/.wei/experiments/Example Program_id_01HD1X34DFPXXF1CCE46HCYBT1/runs/example_workflow_01HD1WWANJF3QH9FGSG9RMJN08'}\n",
      "{'name': 'example_workflow', 'modules': [], 'flowdef': [{'locations': {}, 'step': {'action': 'sleep', 'args': {'t': '5'}, 'checks': None, 'comment': 'Sleep for 5 seconds before we take a picture', 'dependencies': [], 'id': '01HD1WWANBTYGH6MHSTCZGG063', 'module': 'sleeper', 'name': 'Sleep workcell for t seconds', 'priority': None, 'requirements': {}}}, {'locations': {}, 'step': {'action': 'take_picture', 'args': {'image_name': 'test_snapshot.jpg'}, 'checks': None, 'comment': None, 'dependencies': [], 'id': '01HD1WWANBTYGH6MHSTCZGG063', 'module': 'webcam', 'name': 'Take Picture', 'priority': None, 'requirements': {}}}], 'metadata': {'author': None, 'info': None, 'version': 0.1}, 'payload': None, 'label': 'example_workflow', 'run_id': '01HD1WWANJF3QH9FGSG9RMJN08', 'status': 'running', 'result': {}, 'hist': {'Sleep workcell for t seconds': {'action_log': '', 'action_msg': 'StepStatus.Succeeded', 'action_response': 'True'}}, 'experiment_id': '01HD1X34DFPXXF1CCE46HCYBT1', 'experiment_path': '/root/.wei/experiments/Example Program_id_01HD1X34DFPXXF1CCE46HCYBT1', 'step_index': 1, 'run_dir': '/root/.wei/experiments/Example Program_id_01HD1X34DFPXXF1CCE46HCYBT1/runs/example_workflow_01HD1WWANJF3QH9FGSG9RMJN08'}\n",
      "{'name': 'example_workflow', 'modules': [], 'flowdef': [{'locations': {}, 'step': {'action': 'sleep', 'args': {'t': '5'}, 'checks': None, 'comment': 'Sleep for 5 seconds before we take a picture', 'dependencies': [], 'id': '01HD1WWANBTYGH6MHSTCZGG063', 'module': 'sleeper', 'name': 'Sleep workcell for t seconds', 'priority': None, 'requirements': {}}}, {'locations': {}, 'step': {'action': 'take_picture', 'args': {'image_name': 'test_snapshot.jpg'}, 'checks': None, 'comment': None, 'dependencies': [], 'id': '01HD1WWANBTYGH6MHSTCZGG063', 'module': 'webcam', 'name': 'Take Picture', 'priority': None, 'requirements': {}}}], 'metadata': {'author': None, 'info': None, 'version': 0.1}, 'payload': None, 'label': 'example_workflow', 'run_id': '01HD1WWANJF3QH9FGSG9RMJN08', 'status': 'completed', 'result': {}, 'hist': {'Sleep workcell for t seconds': {'action_log': '', 'action_msg': 'StepStatus.Succeeded', 'action_response': 'True'}, 'Take Picture': {'action_log': \"OpenCV(4.7.0) /io/opencv/modules/imgcodecs/src/loadsave.cpp:783: error: (-215:Assertion failed) !_img.empty() in function 'imwrite'\\n\", 'action_msg': 'StepStatus.Failed', 'action_response': 'False'}, 'run_dir': '/root/.wei/experiments/Example Program_id_01HD1X34DFPXXF1CCE46HCYBT1/wei_runs/example_workflow_01HD1WWANJF3QH9FGSG9RMJN08'}, 'experiment_id': '01HD1X34DFPXXF1CCE46HCYBT1', 'experiment_path': '/root/.wei/experiments/Example Program_id_01HD1X34DFPXXF1CCE46HCYBT1', 'step_index': 2, 'run_dir': '/root/.wei/experiments/Example Program_id_01HD1X34DFPXXF1CCE46HCYBT1/runs/example_workflow_01HD1WWANJF3QH9FGSG9RMJN08'}\n",
      "{\n",
      "  \"name\": \"example_workflow\",\n",
      "  \"modules\": [],\n",
      "  \"flowdef\": [\n",
      "    {\n",
      "      \"locations\": {},\n",
      "      \"step\": {\n",
      "        \"action\": \"sleep\",\n",
      "        \"args\": {\n",
      "          \"t\": \"5\"\n",
      "        },\n",
      "        \"checks\": null,\n",
      "        \"comment\": \"Sleep for 5 seconds before we take a picture\",\n",
      "        \"dependencies\": [],\n",
      "        \"id\": \"01HD1WWANBTYGH6MHSTCZGG063\",\n",
      "        \"module\": \"sleeper\",\n",
      "        \"name\": \"Sleep workcell for t seconds\",\n",
      "        \"priority\": null,\n",
      "        \"requirements\": {}\n",
      "      }\n",
      "    },\n",
      "    {\n",
      "      \"locations\": {},\n",
      "      \"step\": {\n",
      "        \"action\": \"take_picture\",\n",
      "        \"args\": {\n",
      "          \"image_name\": \"test_snapshot.jpg\"\n",
      "        },\n",
      "        \"checks\": null,\n",
      "        \"comment\": null,\n",
      "        \"dependencies\": [],\n",
      "        \"id\": \"01HD1WWANBTYGH6MHSTCZGG063\",\n",
      "        \"module\": \"webcam\",\n",
      "        \"name\": \"Take Picture\",\n",
      "        \"priority\": null,\n",
      "        \"requirements\": {}\n",
      "      }\n",
      "    }\n",
      "  ],\n",
      "  \"metadata\": {\n",
      "    \"author\": null,\n",
      "    \"info\": null,\n",
      "    \"version\": 0.1\n",
      "  },\n",
      "  \"payload\": null,\n",
      "  \"label\": \"example_workflow\",\n",
      "  \"run_id\": \"01HD1WWANJF3QH9FGSG9RMJN08\",\n",
      "  \"status\": \"completed\",\n",
      "  \"result\": {},\n",
      "  \"hist\": {\n",
      "    \"Sleep workcell for t seconds\": {\n",
      "      \"action_log\": \"\",\n",
      "      \"action_msg\": \"StepStatus.Succeeded\",\n",
      "      \"action_response\": \"True\"\n",
      "    },\n",
      "    \"Take Picture\": {\n",
      "      \"action_log\": \"OpenCV(4.7.0) /io/opencv/modules/imgcodecs/src/loadsave.cpp:783: error: (-215:Assertion failed) !_img.empty() in function 'imwrite'\\n\",\n",
      "      \"action_msg\": \"StepStatus.Failed\",\n",
      "      \"action_response\": \"False\"\n",
      "    },\n",
      "    \"run_dir\": \"/root/.wei/experiments/Example Program_id_01HD1X34DFPXXF1CCE46HCYBT1/wei_runs/example_workflow_01HD1WWANJF3QH9FGSG9RMJN08\"\n",
      "  },\n",
      "  \"experiment_id\": \"01HD1X34DFPXXF1CCE46HCYBT1\",\n",
      "  \"experiment_path\": \"/root/.wei/experiments/Example Program_id_01HD1X34DFPXXF1CCE46HCYBT1\",\n",
      "  \"step_index\": 2,\n",
      "  \"run_dir\": \"/root/.wei/experiments/Example Program_id_01HD1X34DFPXXF1CCE46HCYBT1/runs/example_workflow_01HD1WWANJF3QH9FGSG9RMJN08\"\n",
      "}\n"
     ]
    }
   ],
   "source": [
    "# This runs the simulated_workflow a simulated workflow\n",
    "flow_info = exp.start_run(wf_path.resolve(), simulate=True)\n",
    "print(json.dumps(flow_info, indent=2))"
   ]
  },
  {
   "cell_type": "code",
   "execution_count": null,
   "id": "63101880-68ad-43a5-8c9c-bf2509d69175",
   "metadata": {},
   "outputs": [],
   "source": []
  }
 ],
 "metadata": {
  "kernelspec": {
   "display_name": "Python 3 (ipykernel)",
   "language": "python",
   "name": "python3"
  },
  "language_info": {
   "codemirror_mode": {
    "name": "ipython",
    "version": 3
   },
   "file_extension": ".py",
   "mimetype": "text/x-python",
   "name": "python",
   "nbconvert_exporter": "python",
   "pygments_lexer": "ipython3",
   "version": "3.11.5"
  }
 },
 "nbformat": 4,
 "nbformat_minor": 5
}
