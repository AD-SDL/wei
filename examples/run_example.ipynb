{
 "cells": [
  {
   "cell_type": "code",
   "execution_count": null,
   "id": "93d58afd-652b-4fd3-88d8-3595d2a0c350",
   "metadata": {},
   "outputs": [],
   "source": [
    "import time\n",
    "from pathlib import Path\n",
    "\n",
    "from wei import Experiment\n",
    "from wei.core.data_classes import WorkflowStatus"
   ]
  },
  {
   "cell_type": "code",
   "execution_count": null,
   "id": "cf284cec-a6fc-4c8b-8084-e0ddca0a8e43",
   "metadata": {},
   "outputs": [],
   "source": [
    "# The path to the Workflow definition yaml file\n",
    "wf_path = Path(\"../wei/tests/test_workflow.yaml\")\n",
    "# This defines the Experiment object that will communicate with the server for workflows\n",
    "exp = Experiment(\"wei_server\", \"8000\", \"Example Program\")"
   ]
  },
  {
   "cell_type": "code",
   "execution_count": null,
   "id": "753e034a-732a-4f6f-bfef-f6ef5ce8b2f6",
   "metadata": {},
   "outputs": [],
   "source": [
    "# This initializes the connection to the server and the logs \n",
    "# for this run of the program.\n",
    "exp.register_exp()"
   ]
  },
  {
   "cell_type": "code",
   "execution_count": null,
   "id": "9a0c7725-5332-49cc-b0a6-36bb5fe8b51c",
   "metadata": {},
   "outputs": [],
   "source": [
    "# This runs the simulated_workflow a simulated workflow\n",
    "flow_info = exp.run_job(wf_path.resolve(), simulate=True)\n",
    "print(flow_info)"
   ]
  },
  {
   "cell_type": "code",
   "execution_count": null,
   "id": "dbafbd94-62d8-4c5f-928f-671c621212f1",
   "metadata": {},
   "outputs": [],
   "source": [
    "# This checks the state of the experiment in the queue\n",
    "flow_status = exp.query_job(flow_info[\"run_id\"])\n",
    "# This will print out the queued job\n",
    "print(flow_status)\n",
    "# This will wait until the flow has run and then \n",
    "# print out the final result of the flow\n",
    "while flow_status[\"status\"] != WorkflowStatus.COMPLETED:\n",
    "    print(flow_status)\n",
    "    time.sleep(1)\n",
    "    flow_status = exp.query_job(flow_info[\"run_id\"])\n",
    "print(flow_status)"
   ]
  },
  {
   "cell_type": "code",
   "execution_count": null,
   "id": "63101880-68ad-43a5-8c9c-bf2509d69175",
   "metadata": {},
   "outputs": [],
   "source": []
  }
 ],
 "metadata": {
  "kernelspec": {
   "display_name": "Python 3 (ipykernel)",
   "language": "python",
   "name": "python3"
  },
  "language_info": {
   "codemirror_mode": {
    "name": "ipython",
    "version": 3
   },
   "file_extension": ".py",
   "mimetype": "text/x-python",
   "name": "python",
   "nbconvert_exporter": "python",
   "pygments_lexer": "ipython3",
   "version": "3.11.5"
  }
 },
 "nbformat": 4,
 "nbformat_minor": 5
}
