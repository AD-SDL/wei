{
 "cells": [
  {
   "cell_type": "code",
   "execution_count": 1,
   "id": "93d58afd-652b-4fd3-88d8-3595d2a0c350",
   "metadata": {},
   "outputs": [],
   "source": [
    "import time\n",
    "from pathlib import Path\n",
    "\n",
    "from wei import Experiment\n",
    "from wei.core.data_classes import WorkflowStatus"
   ]
  },
  {
   "cell_type": "code",
   "execution_count": 11,
   "id": "cf284cec-a6fc-4c8b-8084-e0ddca0a8e43",
   "metadata": {},
   "outputs": [],
   "source": [
    "# The path to the Workflow definition yaml file\n",
    "wf_path = Path(\"../wei/tests/test_workflow.yaml\")\n",
    "# This defines the Experiment object that will communicate with the server for workflows\n",
    "exp = Experiment(\"wei_server\", \"8000\", \"Example Program\")"
   ]
  },
  {
   "cell_type": "code",
   "execution_count": 7,
   "id": "753e034a-732a-4f6f-bfef-f6ef5ce8b2f6",
   "metadata": {},
   "outputs": [
    {
     "data": {
      "text/plain": [
       "{'exp_dir': '/root/.wei/experiments/Example Program_id_01HC10TTK33WK5MSRK37BH84Y4'}"
      ]
     },
     "execution_count": 7,
     "metadata": {},
     "output_type": "execute_result"
    }
   ],
   "source": [
    "# This initializes the connection to the server and the logs \n",
    "# for this run of the program.\n",
    "exp.register_exp()"
   ]
  },
  {
   "cell_type": "code",
   "execution_count": 15,
   "id": "9a0c7725-5332-49cc-b0a6-36bb5fe8b51c",
   "metadata": {},
   "outputs": [
    {
     "name": "stdout",
     "output_type": "stream",
     "text": [
      "{'wf': {'name': 'test_workflow', 'label': 'test_workflow', 'run_id': '01HC115VDTRQJ0VFAZRNAA4FZT', 'step_index': 0, 'experiment_path': '', 'hist': {}, 'status': 'new', 'result': {}, 'run_dir': 'runs/_01HC115VDTRQJ0VFAZRNAA4FZT', 'flowdef': [{'step': {'name': 'Sleep workcell for t seconds', 'module': 'sleeper', 'action': 'sleep', 'args': {'t': '5'}, 'checks': None, 'requirements': None, 'dependencies': None, 'priority': None, 'id': 'e2a5430c-d984-4106-84e9-b1b1f496ed4c', 'comment': 'Sleep for 5 seconds before we take a picture'}, 'locations': {}}, {'step': {'name': 'Take Picture', 'module': 'webcam', 'action': 'take_picture', 'args': {'image_name': 'test_snapshot.jpg', 'target': [0, 0, 0, 0, 0, 0]}, 'checks': None, 'requirements': None, 'dependencies': None, 'priority': None, 'id': '14b39245-15b2-49df-8263-f19f2a64a18a', 'comment': None}, 'locations': {'target': 'webcam.pos'}}], 'payload': None}, 'run_id': '01HC115VDTRQJ0VFAZRNAA4FZT', 'status': 'WorkflowStatus.NEW'}\n",
      "{'wf': {'name': 'test_workflow', 'label': 'test_workflow', 'run_id': '01HC115VDTRQJ0VFAZRNAA4FZT', 'step_index': 0, 'experiment_path': '', 'hist': {}, 'status': 'new', 'result': {}, 'run_dir': 'runs/_01HC115VDTRQJ0VFAZRNAA4FZT', 'flowdef': [{'step': {'name': 'Sleep workcell for t seconds', 'module': 'sleeper', 'action': 'sleep', 'args': {'t': '5'}, 'checks': None, 'requirements': None, 'dependencies': None, 'priority': None, 'id': 'e2a5430c-d984-4106-84e9-b1b1f496ed4c', 'comment': 'Sleep for 5 seconds before we take a picture'}, 'locations': {}}, {'step': {'name': 'Take Picture', 'module': 'webcam', 'action': 'take_picture', 'args': {'image_name': 'test_snapshot.jpg', 'target': [0, 0, 0, 0, 0, 0]}, 'checks': None, 'requirements': None, 'dependencies': None, 'priority': None, 'id': '14b39245-15b2-49df-8263-f19f2a64a18a', 'comment': None}, 'locations': {'target': 'webcam.pos'}}], 'payload': None}, 'run_id': '01HC115VDTRQJ0VFAZRNAA4FZT', 'status': 'WorkflowStatus.NEW'}\n"
     ]
    }
   ],
   "source": [
    "# This runs the simulated_workflow a simulated workflow\n",
    "flow_info = exp.run_job(wf_path.resolve(), simulate=True)\n",
    "print(flow_info)"
   ]
  },
  {
   "cell_type": "code",
   "execution_count": 18,
   "id": "dbafbd94-62d8-4c5f-928f-671c621212f1",
   "metadata": {},
   "outputs": [
    {
     "name": "stdout",
     "output_type": "stream",
     "text": [
      "{'status': 'completed', 'result': {}, 'hist': {'Sleep workcell for t seconds': {'action_log': '', 'action_msg': 'StepStatus.Succeeded', 'action_response': 'True'}, 'Take Picture': {'action_log': \"OpenCV(4.8.0) /io/opencv/modules/imgcodecs/src/loadsave.cpp:787: error: (-215:Assertion failed) !_img.empty() in function 'imwrite'\\n\", 'action_msg': 'StepStatus.Failed', 'action_response': 'False'}, 'run_dir': 'wei_runs/test_workflow_01HC115VDTRQJ0VFAZRNAA4FZT'}}\n",
      "{'status': 'completed', 'result': {}, 'hist': {'Sleep workcell for t seconds': {'action_log': '', 'action_msg': 'StepStatus.Succeeded', 'action_response': 'True'}, 'Take Picture': {'action_log': \"OpenCV(4.8.0) /io/opencv/modules/imgcodecs/src/loadsave.cpp:787: error: (-215:Assertion failed) !_img.empty() in function 'imwrite'\\n\", 'action_msg': 'StepStatus.Failed', 'action_response': 'False'}, 'run_dir': 'wei_runs/test_workflow_01HC115VDTRQJ0VFAZRNAA4FZT'}}\n"
     ]
    }
   ],
   "source": [
    "# This checks the state of the experiment in the queue\n",
    "flow_status = exp.query_job(flow_info[\"run_id\"])\n",
    "# This will print out the queued job\n",
    "print(flow_status)\n",
    "# This will wait until the flow has run and then \n",
    "# print out the final result of the flow\n",
    "while flow_status[\"status\"] != WorkflowStatus.COMPLETED:\n",
    "    print(flow_status)\n",
    "    time.sleep(1)\n",
    "    flow_status = exp.query_job(flow_info[\"job_id\"])\n",
    "print(flow_status)"
   ]
  },
  {
   "cell_type": "code",
   "execution_count": null,
   "id": "63101880-68ad-43a5-8c9c-bf2509d69175",
   "metadata": {},
   "outputs": [],
   "source": []
  }
 ],
 "metadata": {
  "kernelspec": {
   "display_name": "Python 3 (ipykernel)",
   "language": "python",
   "name": "python3"
  },
  "language_info": {
   "codemirror_mode": {
    "name": "ipython",
    "version": 3
   },
   "file_extension": ".py",
   "mimetype": "text/x-python",
   "name": "python",
   "nbconvert_exporter": "python",
   "pygments_lexer": "ipython3",
   "version": "3.11.5"
  }
 },
 "nbformat": 4,
 "nbformat_minor": 5
}
